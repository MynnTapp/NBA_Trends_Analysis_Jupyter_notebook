{
 "cells": [
  {
   "cell_type": "markdown",
   "id": "82bdd418",
   "metadata": {},
   "source": [
    "# NBA trends Project"
   ]
  },
  {
   "cell_type": "markdown",
   "id": "4f81a49f",
   "metadata": {},
   "source": [
    "In this project, I’ll analyze data from the NBA (National Basketball Association) and explore possible associations.\n",
    "\n",
    "This data was originally sourced from 538’s Analysis of the Complete History Of The NBA and contains the original, unmodified data from Basketball Reference as well as several additional variables 538 added to perform their own analysis.\n",
    "\n",
    "You can read more about the data and how it’s being used by 538 here. For this project we’ve limited the data to just 5 teams and 10 columns (plus one constructed column, point_diff, the difference between pts and opp_pts)."
   ]
  },
  {
   "cell_type": "markdown",
   "id": "cda85542",
   "metadata": {},
   "source": [
    "## Install dependencies and tools\n",
    "To run this notebook, you need to install the following Python libraries:\n",
    "\n",
    "- numpy\n",
    "- pandas\n",
    "- scipy\n",
    "- matplotlib\n",
    "- seaborn\n",
    "\n",
    "You can install them using pip:\n",
    "\n",
    "```bash\n",
    "pip install numpy pandas scipy matplotlib seaborn\n",
    "```"
   ]
  },
  {
   "cell_type": "code",
   "execution_count": 4,
   "id": "5c4ed602",
   "metadata": {},
   "outputs": [
    {
     "name": "stdout",
     "output_type": "stream",
     "text": [
      "        game_id  year_id  fran_id      opp_fran game_location  is_playoffs  \\\n",
      "0  194611010TRH     1947   Knicks       Huskies             A            0   \n",
      "1  194611020CHS     1947   Knicks         Stags             A            0   \n",
      "2  194611020PRO     1947  Celtics  Steamrollers             A            0   \n",
      "3  194611050BOS     1947  Celtics         Stags             H            0   \n",
      "4  194611070STB     1947   Knicks       Bombers             A            0   \n",
      "\n",
      "   pts  opp_pts game_result  forecast  point_diff  \n",
      "0   68       66           W  0.359935           2  \n",
      "1   47       63           L  0.368899         -16  \n",
      "2   53       59           L  0.359935          -6  \n",
      "3   55       57           L  0.620204          -2  \n",
      "4   68       63           W  0.339290           5  \n"
     ]
    }
   ],
   "source": [
    "import numpy as np\n",
    "import pandas as pd\n",
    "from scipy.stats import pearsonr, chi2_contingency\n",
    "import matplotlib.pyplot as plt\n",
    "import seaborn as sns\n",
    "\n",
    "# previewing and reading csv file\n",
    "\n",
    "nba_data = pd.read_csv(\"modified_nba_games_data.csv\")\n",
    "# creating two data frames, one for 2010, and one for 2014\n",
    "nba_data_2010 = nba_data[nba_data[\"year_id\"] == 2010]\n",
    "nba_data_2014 = nba_data[nba_data[\"year_id\"] == 2014]\n",
    "\n",
    "print(nba_data.head())"
   ]
  },
  {
   "cell_type": "markdown",
   "id": "320a3a88",
   "metadata": {},
   "source": [
    "## Analyzing relationships between Quantitative and Categorical"
   ]
  },
  {
   "cell_type": "markdown",
   "id": "f113b3bf",
   "metadata": {},
   "source": [
    "In this section I am going to analyze and compare the scoring performance of the New York Knicks and Brooklyn Nets during the 2010 NBA season. By extracting the points each team scored in their games from the pts column of the nba_2010 DataFrame, you will create two separate series: one for the Knicks (knicks_pts_10) and one for the Nets (nets_pts_10). This will allow you to directly compare how each team performed in terms of points earned per game."
   ]
  },
  {
   "cell_type": "markdown",
   "id": "96922cfa",
   "metadata": {},
   "source": [
    "### Step 1: Selecting and Filtering Relevant Data"
   ]
  },
  {
   "cell_type": "code",
   "execution_count": 5,
   "id": "4a9a4f92",
   "metadata": {},
   "outputs": [
    {
     "name": "stdout",
     "output_type": "stream",
     "text": [
      "21719     93\n",
      "21725    100\n",
      "21728    127\n",
      "21734    117\n",
      "21739     89\n",
      "        ... \n",
      "22102    105\n",
      "22110    103\n",
      "22116     98\n",
      "22118    114\n",
      "22126    113\n",
      "Name: pts, Length: 82, dtype: int64\n",
      "21720     93\n",
      "21727     85\n",
      "21730    104\n",
      "21733     68\n",
      "21738     94\n",
      "        ... \n",
      "22103     89\n",
      "22108    127\n",
      "22113    102\n",
      "22117     95\n",
      "22124     86\n",
      "Name: pts, Length: 82, dtype: int64\n"
     ]
    }
   ],
   "source": [
    "nba_data_2010 = nba_data[nba_data[\"year_id\"] == 2010]\n",
    "nba_data_2014 = nba_data[nba_data[\"year_id\"] == 2014]\n",
    "\n",
    "knicks_pts_10 = nba_data_2010.pts[nba_data_2010[\"fran_id\"] == \"Knicks\"]\n",
    "nets_pts_10 = nba_data_2010.pts[nba_data_2010[\"fran_id\"] == \"Nets\"]\n",
    "\n",
    "print(knicks_pts_10)\n",
    "print(nets_pts_10)"
   ]
  },
  {
   "cell_type": "markdown",
   "id": "06fdc04f",
   "metadata": {},
   "source": [
    "### Step 2: Calculating the Mean Difference\n",
    "\n",
    "The next step involves calculating the mean difference between the points scored per game by the Knicks and the Nets. By comparing the average points for each team, this analysis will assess whether there is a significant association or difference in scoring performance between the two series. This approach provides a quantitative basis for evaluating the relative performance of the teams during the season.\n"
   ]
  },
  {
   "cell_type": "code",
   "execution_count": 25,
   "id": "2881adcb",
   "metadata": {},
   "outputs": [
    {
     "name": "stdout",
     "output_type": "stream",
     "text": [
      "9.731707317073173\n"
     ]
    }
   ],
   "source": [
    "diff_means_2010 = knicks_pts_10.mean() -  nets_pts_10.mean() \n",
    "print(diff_means_2010)"
   ]
  },
  {
   "cell_type": "markdown",
   "id": "c21db7b2",
   "metadata": {},
   "source": [
    "The calculated mean difference provides insight into whether there is an association between team identity (fran_id) and points scored (pts). If the mean difference is substantial, it suggests that one team consistently scores more points per game than the other, indicating a possible association between the team and its scoring performance. However, if the mean difference is small, it may imply that there is little to no meaningful relationship between the two variables. Based on the Calculated Mean Difference, it is suggesting that there is a huge association between the two variables."
   ]
  },
  {
   "cell_type": "markdown",
   "id": "0cbdee3f",
   "metadata": {},
   "source": [
    "However, to gain deeper insight into the scoring performance of the Knicks and Nets, it is beneficial to examine the full distribution of points scored rather than relying solely on mean values. By creating overlapping histograms for the two teams using the previously generated series, the analysis will reveal whether differences in means are supported by distinct distributions or if the teams exhibit similar scoring patterns. This visualization allows for a more comprehensive comparison, highlighting potential similarities or differences in how points are distributed across games for each team. Observing the histograms will help determine if the distributions appear to be the same or if there are notable distinctions."
   ]
  },
  {
   "cell_type": "markdown",
   "id": "d7eeea28",
   "metadata": {},
   "source": [
    "### Step 3: Creating Overlapping Histograms to Compare Points Scored by Knicks and Nets"
   ]
  },
  {
   "cell_type": "code",
   "execution_count": 24,
   "id": "514ac239",
   "metadata": {},
   "outputs": [
    {
     "data": {
      "image/png": "[encoded data removed]",
      "text/plain": [
       "<Figure size 640x480 with 1 Axes>"
      ]
     },
     "metadata": {},
     "output_type": "display_data"
    }
   ],
   "source": [
    "bins = np.linspace(\n",
    "    min(knicks_pts_10.min(), nets_pts_10.min()),\n",
    "    max(knicks_pts_10.max(), nets_pts_10.max()),\n",
    "    15\n",
    ")\n",
    "\n",
    "plt.hist(nets_pts_10, alpha=0.7, color=\"salmon\", label=\"Nets\", bins=bins)\n",
    "plt.hist(knicks_pts_10, alpha=0.7, color=\"skyblue\", label=\"Knicks\", bins=bins)\n",
    "plt.xlabel(\"Points From Teams\")\n",
    "plt.ylabel(\"Frequency\")\n",
    "plt.legend()\n",
    "\n",
    "plt.show()\n"
   ]
  },
  {
   "cell_type": "markdown",
   "id": "cca2ea45",
   "metadata": {},
   "source": [
    "The overlapping histogram indicates that the distributions of points scored by the Knicks and Nets are quite different, suggesting an association between team identity and points scored. The  distinct separation between the two distributions supports the conclusion that differences in scoring performance between these teams are significantly different."
   ]
  },
  {
   "cell_type": "markdown",
   "id": "a860a14e",
   "metadata": {},
   "source": [
    "To extend the analysis, it is valuable to compare the scoring performance of the Knicks and Nets in the 2014 NBA season using the nba_2014 DataFrame. By replicating the previous steps—calculating the mean difference in points scored between the two teams and visualizing the distributions with overlapping histograms—it becomes possible to assess whether the difference in points has increased or decreased compared to 2010. This approach provides insight into how the relationship between team identity and scoring performance may have evolved over time, highlighting any changes in competitive dynamics between the Knicks and Nets."
   ]
  },
  {
   "cell_type": "markdown",
   "id": "ab7af246",
   "metadata": {},
   "source": [
    "### Step 4: Gathering and Filtering Data (2014 games)"
   ]
  },
  {
   "cell_type": "code",
   "execution_count": 8,
   "id": "9d0f07cb",
   "metadata": {},
   "outputs": [
    {
     "name": "stdout",
     "output_type": "stream",
     "text": [
      "23469     90\n",
      "23473     81\n",
      "23480    100\n",
      "23486     97\n",
      "23490    101\n",
      "        ... \n",
      "23849     91\n",
      "23863    108\n",
      "23867    100\n",
      "23871    109\n",
      "23875     95\n",
      "Name: pts, Length: 82, dtype: int64\n"
     ]
    }
   ],
   "source": [
    "knicks_pts_14 = nba_data_2014.pts[nba_data_2014[\"fran_id\"] == \"Knicks\"]\n",
    "nets_pts_14 = nba_data_2014.pts[nba_data_2014[\"fran_id\"] == \"Nets\"]\n",
    "\n",
    "print(knicks_pts_14)"
   ]
  },
  {
   "cell_type": "markdown",
   "id": "36b3b406",
   "metadata": {},
   "source": [
    "### Step 5: Calculating the Mean Difference (2014 games)"
   ]
  },
  {
   "cell_type": "code",
   "execution_count": 36,
   "id": "5f6f4a8f",
   "metadata": {},
   "outputs": [
    {
     "name": "stdout",
     "output_type": "stream",
     "text": [
      "0.44706798131809933\n"
     ]
    }
   ],
   "source": [
    "knicks_pts_14 = nba_data_2014.pts[nba_data_2014[\"fran_id\"] == \"Knicks\"]\n",
    "nets_pts_14 = nba_data_2014.pts[nba_data_2014[\"fran_id\"] == \"Nets\"]\n",
    "\n",
    "diff_means_2014 = knicks_pts_14.mean() - nets_pts_14.mean()\n",
    "print(diff_means_2014)"
   ]
  },
  {
   "cell_type": "markdown",
   "id": "8f3e420b",
   "metadata": {},
   "source": [
    "### Step 6: Creating Overlapping Histograms to Compare Points Scored by Knicks and Nets (2014 games)"
   ]
  },
  {
   "cell_type": "code",
   "execution_count": 22,
   "id": "438a3bc0",
   "metadata": {},
   "outputs": [
    {
     "data": {
      "image/png": "[encoded data removed]",
      "text/plain": [
       "<Figure size 640x480 with 1 Axes>"
      ]
     },
     "metadata": {},
     "output_type": "display_data"
    }
   ],
   "source": [
    "bins = np.linspace(\n",
    "    min(knicks_pts_14.min(), nets_pts_14.min()),\n",
    "    max(knicks_pts_14.max(), nets_pts_14.max()),\n",
    "    15\n",
    ")\n",
    "\n",
    "plt.hist(knicks_pts_14, bins=bins, alpha=0.5, color=\"skyblue\", label=\"Knicks\")\n",
    "plt.hist(nets_pts_14, bins=bins, alpha=0.5, color=\"violet\", label=\"Nets\")\n",
    "plt.xlabel(\"Points From Teams\")\n",
    "plt.ylabel(\"Frequency\")\n",
    "plt.legend()\n",
    "plt.show()"
   ]
  },
  {
   "cell_type": "markdown",
   "id": "828026a2",
   "metadata": {},
   "source": [
    "The analysis shows that the difference in points scored between the Knicks and Nets decreased from 2010 to 2014. The calculated mean difference for 2014 aligns with the observed distributions in the overlapping histograms, indicating that the teams' scoring performances became more similar over time. This reduction in mean difference makes sense given the increased overlap in the distributions, suggesting a narrowing gap in points scored between the two teams during the 2014 season."
   ]
  },
  {
   "cell_type": "markdown",
   "id": "d1fbd1ab",
   "metadata": {},
   "source": [
    "The next step involves expanding the analysis to include all teams from the 2010 season only. By generating side-by-side boxplots of points scored per game for each franchise, the visualization will help assess the relationship between team identity and scoring performance. This approach will reveal the extent of overlap between teams, indicate whether franchise and points scored are associated, and highlight any pairs of teams that differ in their average scores per game."
   ]
  },
  {
   "cell_type": "markdown",
   "id": "5ee5356c",
   "metadata": {},
   "source": [
    "### Step 7: Creating side by side Box-plots to analyze all teams in 2010"
   ]
  },
  {
   "cell_type": "code",
   "execution_count": 48,
   "id": "3d38ab56",
   "metadata": {},
   "outputs": [
    {
     "data": {
      "image/png": "[encoded data removed]",
      "text/plain": [
       "<Figure size 640x480 with 1 Axes>"
      ]
     },
     "metadata": {},
     "output_type": "display_data"
    }
   ],
   "source": [
    "sns.boxplot(data=nba_data_2010, x=nba_data_2010.fran_id, y=nba_data_2010.pts)\n",
    "plt.xlabel(\"teams\")\n",
    "plt.ylabel(\"points scored\")\n",
    "plt.show()"
   ]
  },
  {
   "cell_type": "markdown",
   "id": "52646b9d",
   "metadata": {},
   "source": [
    "The side-by-side boxplots reveal that while there is considerable overlap among many of the teams' boxes, indicating similar scoring ranges, the chart still suggests an association between franchise identity (fran_id) and points scored (pts). Notably, some pairs of teams, such as the Nets and Celtics, display more pronounced differences in their average scores per game, as evidenced by the separation between their boxes. This indicates that, despite the overlap, certain franchises consistently achieve higher or lower point totals, reinforcing the relationship between team and scoring performance."
   ]
  },
  {
   "cell_type": "markdown",
   "id": "a8018d15",
   "metadata": {},
   "source": [
    "## Analyzing relationships between Categorical variables\n",
    "\n",
    "This section focuses on investigating whether teams are more likely to win games when playing at home compared to away. By analyzing the variables game_result (indicating win or loss) and game_location (indicating home or away), the goal is to determine if there is a relationship between game location and the likelihood of winning. This analysis will provide insight into the impact of home-court advantage on team performance."
   ]
  },
  {
   "cell_type": "markdown",
   "id": "450e0687",
   "metadata": {},
   "source": [
    "### Step 1: Creating a Contingency Table of Frequencies"
   ]
  },
  {
   "cell_type": "code",
   "execution_count": 49,
   "id": "63af1671",
   "metadata": {},
   "outputs": [
    {
     "name": "stdout",
     "output_type": "stream",
     "text": [
      "game_location     A     H  N\n",
      "game_result                 \n",
      "L              7105  4298  3\n",
      "W              5003  7942  8\n"
     ]
    }
   ],
   "source": [
    "location_result_frequency = pd.crosstab(nba_data.game_result, nba_data.game_location)\n",
    "print(location_result_frequency)"
   ]
  },
  {
   "cell_type": "markdown",
   "id": "54527b05",
   "metadata": {},
   "source": [
    "Based on the results of the contingency table, there appears to be an association between game location and game result. The distribution of wins and losses differs depending on whether teams are playing at home or away, suggesting that these variables are related.\n",
    "\n",
    "\n",
    "The next step involves converting the contingency table of frequencies into a table of proportions. This transformation will allow for a clearer comparison of the relationship between game location and game result by expressing the data as relative frequencies, making it easier to interpret and analyze patterns across categories."
   ]
  },
  {
   "cell_type": "markdown",
   "id": "52cccaaa",
   "metadata": {},
   "source": [
    "### Step 2: Converting the Contingecy tables of frequencies into proportions"
   ]
  },
  {
   "cell_type": "code",
   "execution_count": 50,
   "id": "4391f3b8",
   "metadata": {},
   "outputs": [
    {
     "name": "stdout",
     "output_type": "stream",
     "text": [
      "game_location         A         H         N\n",
      "game_result                                \n",
      "L              0.291679  0.176444  0.000123\n",
      "W              0.205386  0.326040  0.000328\n"
     ]
    }
   ],
   "source": [
    "location_result_proportions = location_result_frequency/len(nba_data)\n",
    "print(location_result_proportions)"
   ]
  },
  {
   "cell_type": "markdown",
   "id": "a046ac5e",
   "metadata": {},
   "source": [
    "The table of proportions reveals significant differences in game outcomes based on location. A large proportion of games are won at home, while a substantial number of losses occur away. This pattern highlights a strong relationship between game location and result, suggesting that teams are much more likely to win when playing at home compared to away.\n",
    "\n",
    "For the final step in this section, the analysis will focus on calculating the expected contingency table under the assumption of no association between game location and game result. Additionally, the Chi-Square statistic will be computed to quantitatively assess whether the observed differences are statistically significant. This approach provides a formal test for the relationship between the two categorical variables.\n",
    "\n"
   ]
  },
  {
   "cell_type": "markdown",
   "id": "61997560",
   "metadata": {},
   "source": [
    "### Step 3: Creating Expected Contingency Table and Chi-Square Statistic"
   ]
  },
  {
   "cell_type": "code",
   "execution_count": 54,
   "id": "e73f1a03",
   "metadata": {},
   "outputs": [
    {
     "name": "stdout",
     "output_type": "stream",
     "text": [
      "[[5.66952042e+03 5.73132887e+03 5.15070405e+00]\n",
      " [6.43847958e+03 6.50867113e+03 5.84929595e+00]]\n"
     ]
    }
   ],
   "source": [
    "chi2, pval, dof, expected = chi2_contingency(location_result_frequency)\n",
    "print(expected)"
   ]
  },
  {
   "cell_type": "markdown",
   "id": "7d678434",
   "metadata": {},
   "source": [
    "The comparison between the expected contingency table and the actual observed table reveals noticeable differences. The actual table deviates from what would be expected if there were no association between game location and game result. This discrepancy suggests that there is indeed a relationship between these two variables, with the observed outcomes not aligning with the assumption of independence. The results support the conclusion that game location and game result are associated."
   ]
  },
  {
   "cell_type": "markdown",
   "id": "c48a9665",
   "metadata": {},
   "source": [
    "## Analyzing Relationships Between Quantitative Variables\n",
    "\n",
    "Analyzing relationships between quantitative variables marks the final stage of this data analysis. In this section, the focus is on examining whether teams with a higher probability of winning—calculated by 538 for each game—also tend to win by larger point margins. This analysis will help determine if predicted win probabilities are associated with actual game outcomes in terms of points differential.\n",
    "\n",
    "The first step in this analysis is to calculate the covariance between the probability of winning and the point differential for each game. This measure will help determine whether there is a tendency for teams with higher predicted win probabilities to also achieve larger margins of victory."
   ]
  },
  {
   "cell_type": "markdown",
   "id": "e98a0b11",
   "metadata": {},
   "source": [
    "### Step one: Calculating the Covariance"
   ]
  },
  {
   "cell_type": "code",
   "execution_count": 56,
   "id": "aee9e238",
   "metadata": {},
   "outputs": [
    {
     "name": "stdout",
     "output_type": "stream",
     "text": [
      "[[5.22668307e-02 1.37461257e+00]\n",
      " [1.37461257e+00 1.86559287e+02]]\n"
     ]
    }
   ],
   "source": [
    "point_diff_forecast_cov = np.cov(nba_data_2010.forecast, nba_data_2010.point_diff)\n",
    "print(point_diff_forecast_cov)"
   ]
  },
  {
   "cell_type": "markdown",
   "id": "adeefcb3",
   "metadata": {},
   "source": [
    "The covariance matrix indicates that there is a relationship between the probability of winning and the point differential. The presence of a non-zero covariance suggests that as the predicted probability of winning increases, the margin by which teams win also tends to increase, supporting the idea of an association between these two variables.\n",
    "\n",
    "The final step in this analysis is to create a scatter plot of the data. This visualization will help further assess the association between the probability of winning and the point differential by illustrating how these variables relate to each other across individual games."
   ]
  },
  {
   "cell_type": "markdown",
   "id": "dd11604f",
   "metadata": {},
   "source": [
    "### Step 3: Creating a Scatter Plot"
   ]
  },
  {
   "cell_type": "code",
   "execution_count": 57,
   "id": "bcc452d9",
   "metadata": {},
   "outputs": [
    {
     "data": {
      "image/png": "[encoded data removed]",
      "text/plain": [
       "<Figure size 640x480 with 1 Axes>"
      ]
     },
     "metadata": {},
     "output_type": "display_data"
    }
   ],
   "source": [
    "plt.scatter(nba_data_2010.forecast, nba_data_2010.point_diff)\n",
    "plt.xlabel(\"forcasted outcomes\")\n",
    "plt.ylabel(\"difference in points\")\n",
    "plt.show()"
   ]
  },
  {
   "cell_type": "markdown",
   "id": "e57c4168",
   "metadata": {},
   "source": [
    "The correlation values are consistent with the scatter plot, which suggests a modest relationship between the forecasted probability of winning and the actual point difference. The graph indicates that while there is some association, it is not particularly strong, aligning with the observed correlation results."
   ]
  },
  {
   "cell_type": "markdown",
   "id": "9830fbde",
   "metadata": {},
   "source": [
    "# Conclusion\n",
    "\n",
    "In conclusion, this analysis explored various relationships within NBA game data, including team performance, game location, and win probabilities. The results indicate that team identity and game location are both associated with points scored and game outcomes, with home teams tending to win more often. Additionally, while there is some relationship between forecasted win probabilities and actual point differentials, the association is modest. Overall, the study highlights the value of statistical analysis in understanding factors that influence game results and team performance in professional basketball.\n"
   ]
  }
 ],
 "metadata": {
  "kernelspec": {
   "display_name": "Python 3",
   "language": "python",
   "name": "python3"
  },
  "language_info": {
   "codemirror_mode": {
    "name": "ipython",
    "version": 3
   },
   "file_extension": ".py",
   "mimetype": "text/x-python",
   "name": "python",
   "nbconvert_exporter": "python",
   "pygments_lexer": "ipython3",
   "version": "3.9.5"
  }
 },
 "nbformat": 4,
 "nbformat_minor": 5
}
