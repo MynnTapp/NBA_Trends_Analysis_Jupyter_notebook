{
 "cells": [
  {
   "cell_type": "markdown",
   "id": "82bdd418",
   "metadata": {},
   "source": [
    "# NBA trends Project"
   ]
  },
  {
   "cell_type": "markdown",
   "id": "4f81a49f",
   "metadata": {},
   "source": [
    "In this project, I’ll analyze data from the NBA (National Basketball Association) and explore possible associations.\n",
    "\n",
    "This data was originally sourced from 538’s Analysis of the Complete History Of The NBA and contains the original, unmodified data from Basketball Reference as well as several additional variables 538 added to perform their own analysis.\n",
    "\n",
    "You can read more about the data and how it’s being used by 538 here. For this project we’ve limited the data to just 5 teams and 10 columns (plus one constructed column, point_diff, the difference between pts and opp_pts)."
   ]
  },
  {
   "cell_type": "markdown",
   "id": "cda85542",
   "metadata": {},
   "source": [
    "## Install dependencies and tools\n",
    "To run this notebook, you need to install the following Python libraries:\n",
    "\n",
    "- numpy\n",
    "- pandas\n",
    "- scipy\n",
    "- matplotlib\n",
    "- seaborn\n",
    "\n",
    "You can install them using pip:\n",
    "\n",
    "```bash\n",
    "pip install numpy pandas scipy matplotlib seaborn\n",
    "```"
   ]
  },
  {
   "cell_type": "code",
   "execution_count": null,
   "id": "5c4ed602",
   "metadata": {},
   "outputs": [
    {
     "name": "stdout",
     "output_type": "stream",
     "text": [
      "        game_id  year_id  fran_id      opp_fran game_location  is_playoffs  \\\n",
      "0  194611010TRH     1947   Knicks       Huskies             A            0   \n",
      "1  194611020CHS     1947   Knicks         Stags             A            0   \n",
      "2  194611020PRO     1947  Celtics  Steamrollers             A            0   \n",
      "3  194611050BOS     1947  Celtics         Stags             H            0   \n",
      "4  194611070STB     1947   Knicks       Bombers             A            0   \n",
      "\n",
      "   pts  opp_pts game_result  forecast  point_diff  \n",
      "0   68       66           W  0.359935           2  \n",
      "1   47       63           L  0.368899         -16  \n",
      "2   53       59           L  0.359935          -6  \n",
      "3   55       57           L  0.620204          -2  \n",
      "4   68       63           W  0.339290           5  \n"
     ]
    }
   ],
   "source": [
    "import numpy as np\n",
    "import pandas as pd\n",
    "from scipy.stats import pearsonr, chi2_contingency\n",
    "import matplotlib.pyplot as plt\n",
    "import seaborn as sns\n",
    "\n",
    "# previewing and reading csv file\n",
    "\n",
    "nba_data = pd.read_csv(\"modified_nba_games_data.csv\")\n",
    "print(nba_data.head())"
   ]
  },
  {
   "cell_type": "markdown",
   "id": "320a3a88",
   "metadata": {},
   "source": [
    "## Analyzing relationships between Quant and Categorical"
   ]
  }
 ],
 "metadata": {
  "kernelspec": {
   "display_name": "Python 3",
   "language": "python",
   "name": "python3"
  },
  "language_info": {
   "codemirror_mode": {
    "name": "ipython",
    "version": 3
   },
   "file_extension": ".py",
   "mimetype": "text/x-python",
   "name": "python",
   "nbconvert_exporter": "python",
   "pygments_lexer": "ipython3",
   "version": "3.9.5"
  }
 },
 "nbformat": 4,
 "nbformat_minor": 5
}
