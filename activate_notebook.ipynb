{
 "cells": [
  {
   "cell_type": "markdown",
   "id": "82bdd418",
   "metadata": {},
   "source": [
    "# NBA trends Project"
   ]
  },
  {
   "cell_type": "markdown",
   "id": "4f81a49f",
   "metadata": {},
   "source": [
    "In this project, I’ll analyze data from the NBA (National Basketball Association) and explore possible associations.\n",
    "\n",
    "This data was originally sourced from 538’s Analysis of the Complete History Of The NBA and contains the original, unmodified data from Basketball Reference as well as several additional variables 538 added to perform their own analysis.\n",
    "\n",
    "You can read more about the data and how it’s being used by 538 here. For this project we’ve limited the data to just 5 teams and 10 columns (plus one constructed column, point_diff, the difference between pts and opp_pts)."
   ]
  },
  {
   "cell_type": "markdown",
   "id": "cda85542",
   "metadata": {},
   "source": [
    "## Install dependencies and tools\n",
    "To run this notebook, you need to install the following Python libraries:\n",
    "\n",
    "- numpy\n",
    "- pandas\n",
    "- scipy\n",
    "- matplotlib\n",
    "- seaborn\n",
    "\n",
    "You can install them using pip:\n",
    "\n",
    "```bash\n",
    "pip install numpy pandas scipy matplotlib seaborn\n",
    "```"
   ]
  },
  {
   "cell_type": "code",
   "execution_count": null,
   "id": "5c4ed602",
   "metadata": {},
   "outputs": [
    {
     "name": "stdout",
     "output_type": "stream",
     "text": [
      "        game_id  year_id  fran_id      opp_fran game_location  is_playoffs  \\\n",
      "0  194611010TRH     1947   Knicks       Huskies             A            0   \n",
      "1  194611020CHS     1947   Knicks         Stags             A            0   \n",
      "2  194611020PRO     1947  Celtics  Steamrollers             A            0   \n",
      "3  194611050BOS     1947  Celtics         Stags             H            0   \n",
      "4  194611070STB     1947   Knicks       Bombers             A            0   \n",
      "\n",
      "   pts  opp_pts game_result  forecast  point_diff  \n",
      "0   68       66           W  0.359935           2  \n",
      "1   47       63           L  0.368899         -16  \n",
      "2   53       59           L  0.359935          -6  \n",
      "3   55       57           L  0.620204          -2  \n",
      "4   68       63           W  0.339290           5  \n"
     ]
    }
   ],
   "source": [
    "import numpy as np\n",
    "import pandas as pd\n",
    "from scipy.stats import pearsonr, chi2_contingency\n",
    "import matplotlib.pyplot as plt\n",
    "import seaborn as sns\n",
    "\n",
    "# previewing and reading csv file\n",
    "\n",
    "nba_data = pd.read_csv(\"modified_nba_games_data.csv\")\n",
    "# creating two data frames, one for 2010, and one for 2014\n",
    "nba_data_2010 = nba_data[nba_data[\"year_id\"] == 2010]\n",
    "nba_data_2014 = nba_data[nba_data[\"year_id\"] == 2014]\n",
    "\n",
    "print(nba_data.head())"
   ]
  },
  {
   "cell_type": "markdown",
   "id": "320a3a88",
   "metadata": {},
   "source": [
    "## Analyzing relationships between Quantitative and Categorical"
   ]
  },
  {
   "cell_type": "markdown",
   "id": "f113b3bf",
   "metadata": {},
   "source": [
    "In this section I am going to analyze and compare the scoring performance of the New York Knicks and Brooklyn Nets during the 2010 NBA season. By extracting the points each team scored in their games from the pts column of the nba_2010 DataFrame, you will create two separate series: one for the Knicks (knicks_pts_10) and one for the Nets (nets_pts_10). This will allow you to directly compare how each team performed in terms of points earned per game."
   ]
  },
  {
   "cell_type": "markdown",
   "id": "96922cfa",
   "metadata": {},
   "source": [
    "### Step 1: Selecting and Filtering Relevant Data"
   ]
  },
  {
   "cell_type": "code",
   "execution_count": null,
   "id": "4a9a4f92",
   "metadata": {},
   "outputs": [
    {
     "name": "stdout",
     "output_type": "stream",
     "text": [
      "21719     93\n",
      "21725    100\n",
      "21728    127\n",
      "21734    117\n",
      "21739     89\n",
      "        ... \n",
      "22102    105\n",
      "22110    103\n",
      "22116     98\n",
      "22118    114\n",
      "22126    113\n",
      "Name: pts, Length: 82, dtype: int64\n",
      "21720     93\n",
      "21727     85\n",
      "21730    104\n",
      "21733     68\n",
      "21738     94\n",
      "        ... \n",
      "22103     89\n",
      "22108    127\n",
      "22113    102\n",
      "22117     95\n",
      "22124     86\n",
      "Name: pts, Length: 82, dtype: int64\n"
     ]
    }
   ],
   "source": [
    "nba_data_2010 = nba_data[nba_data[\"year_id\"] == 2010]\n",
    "nba_data_2014 = nba_data[nba_data[\"year_id\"] == 2014]\n",
    "\n",
    "knicks_pts_10 = nba_data_2010.pts[nba_data_2010[\"fran_id\"] == \"Knicks\"]\n",
    "nets_pts_10 = nba_data_2010.pts[nba_data_2010[\"fran_id\"] == \"Nets\"]\n",
    "\n",
    "print(knicks_pts_10)\n",
    "print(nets_pts_10)"
   ]
  },
  {
   "cell_type": "markdown",
   "id": "06fdc04f",
   "metadata": {},
   "source": [
    "### Step 2: Calculating the Mean Difference\n",
    "\n",
    "The next step involves calculating the mean difference between the points scored per game by the Knicks and the Nets. By comparing the average points for each team, this analysis will assess whether there is a significant association or difference in scoring performance between the two series. This approach provides a quantitative basis for evaluating the relative performance of the teams during the season.\n"
   ]
  },
  {
   "cell_type": "code",
   "execution_count": 25,
   "id": "2881adcb",
   "metadata": {},
   "outputs": [
    {
     "name": "stdout",
     "output_type": "stream",
     "text": [
      "9.731707317073173\n"
     ]
    }
   ],
   "source": [
    "diff_means_2010 = knicks_pts_10.mean() -  nets_pts_10.mean() \n",
    "print(diff_means_2010)"
   ]
  },
  {
   "cell_type": "markdown",
   "id": "c21db7b2",
   "metadata": {},
   "source": [
    "The calculated mean difference provides insight into whether there is an association between team identity (fran_id) and points scored (pts). If the mean difference is substantial, it suggests that one team consistently scores more points per game than the other, indicating a possible association between the team and its scoring performance. However, if the mean difference is small, it may imply that there is little to no meaningful relationship between the two variables. Based on the Calculated Mean Difference, it is suggesting that there is a huge association between the two variables."
   ]
  },
  {
   "cell_type": "markdown",
   "id": "0cbdee3f",
   "metadata": {},
   "source": [
    "However, to gain deeper insight into the scoring performance of the Knicks and Nets, it is beneficial to examine the full distribution of points scored rather than relying solely on mean values. By creating overlapping histograms for the two teams using the previously generated series, the analysis will reveal whether differences in means are supported by distinct distributions or if the teams exhibit similar scoring patterns. This visualization allows for a more comprehensive comparison, highlighting potential similarities or differences in how points are distributed across games for each team. Observing the histograms will help determine if the distributions appear to be the same or if there are notable distinctions."
   ]
  },
  {
   "cell_type": "markdown",
   "id": "d7eeea28",
   "metadata": {},
   "source": [
    "### Step 3: Creating Overlapping Histograms to Compare Points Scored by Knicks and Nets"
   ]
  },
  {
   "cell_type": "code",
   "execution_count": null,
   "id": "514ac239",
   "metadata": {},
   "outputs": [
    {
     "data": {
      "image/png": "[encoded data removed]",
      "text/plain": [
       "<Figure size 640x480 with 1 Axes>"
      ]
     },
     "metadata": {},
     "output_type": "display_data"
    }
   ],
   "source": [
    "plt.hist(nets_pts_10, alpha=0.7, color=\"salmon\")\n",
    "plt.hist(knicks_pts_10, alpha=0.7, color=\"skyblue\")\n",
    "plt.xlabel(\"Nets 2010 points\")\n",
    "plt.ylabel(\"Knicks 2010 points\")\n",
    "plt.show()\n"
   ]
  },
  {
   "cell_type": "markdown",
   "id": "cca2ea45",
   "metadata": {},
   "source": [
    "The overlapping histogram indicates that the distributions of points scored by the Knicks and Nets are quite different, suggesting an association between team identity and points scored. The  distinct separation between the two distributions supports the conclusion that differences in scoring performance between these teams are significantly different."
   ]
  },
  {
   "cell_type": "markdown",
   "id": "a860a14e",
   "metadata": {},
   "source": [
    "To extend the analysis, it is valuable to compare the scoring performance of the Knicks and Nets in the 2014 NBA season using the nba_2014 DataFrame. By replicating the previous steps—calculating the mean difference in points scored between the two teams and visualizing the distributions with overlapping histograms—it becomes possible to assess whether the difference in points has increased or decreased compared to 2010. This approach provides insight into how the relationship between team identity and scoring performance may have evolved over time, highlighting any changes in competitive dynamics between the Knicks and Nets."
   ]
  },
  {
   "cell_type": "markdown",
   "id": "ab7af246",
   "metadata": {},
   "source": [
    "### Step 4: Gathering and Filtering Data (2014 games)"
   ]
  },
  {
   "cell_type": "code",
   "execution_count": 35,
   "id": "9d0f07cb",
   "metadata": {},
   "outputs": [
    {
     "name": "stdout",
     "output_type": "stream",
     "text": [
      "23469     90\n",
      "23473     81\n",
      "23480    100\n",
      "23486     97\n",
      "23490    101\n",
      "        ... \n",
      "23849     91\n",
      "23863    108\n",
      "23867    100\n",
      "23871    109\n",
      "23875     95\n",
      "Name: pts, Length: 82, dtype: int64\n"
     ]
    }
   ],
   "source": [
    "knicks_pts_14 = nba_data_2014.pts[nba_data_2014[\"fran_id\"] == \"Knicks\"]\n",
    "nets_pts_14 = nba_data_2014.pts[nba_data_2014[\"fran_id\"] == \"Nets\"]\n",
    "\n",
    "print(knicks_pts_14)"
   ]
  },
  {
   "cell_type": "markdown",
   "id": "36b3b406",
   "metadata": {},
   "source": [
    "### Step 5: Calculating the Mean Difference (2014 games)"
   ]
  },
  {
   "cell_type": "code",
   "execution_count": 36,
   "id": "5f6f4a8f",
   "metadata": {},
   "outputs": [
    {
     "name": "stdout",
     "output_type": "stream",
     "text": [
      "0.44706798131809933\n"
     ]
    }
   ],
   "source": [
    "knicks_pts_14 = nba_data_2014.pts[nba_data_2014[\"fran_id\"] == \"Knicks\"]\n",
    "nets_pts_14 = nba_data_2014.pts[nba_data_2014[\"fran_id\"] == \"Nets\"]\n",
    "\n",
    "diff_means_2014 = knicks_pts_14.mean() - nets_pts_14.mean()\n",
    "print(diff_means_2014)"
   ]
  },
  {
   "cell_type": "markdown",
   "id": "8f3e420b",
   "metadata": {},
   "source": [
    "### Step 6: Creating Overlapping Histograms to Compare Points Scored by Knicks and Nets (2014 games)"
   ]
  },
  {
   "cell_type": "code",
   "execution_count": null,
   "id": "438a3bc0",
   "metadata": {},
   "outputs": [
    {
     "data": {
      "image/png": "[encoded data removed]",
      "text/plain": [
       "<Figure size 640x480 with 1 Axes>"
      ]
     },
     "metadata": {},
     "output_type": "display_data"
    }
   ],
   "source": [
    "plt.hist(knicks_pts_14, alpha=0.5, color=\"yellow\")\n",
    "plt.hist(nets_pts_14, alpha=0.5, color=\"red\")\n",
    "plt.xlabel(\"Knicks 2014 game points\")\n",
    "plt.ylabel(\"Nets 2014 game points\")\n",
    "plt.show()"
   ]
  },
  {
   "cell_type": "markdown",
   "id": "828026a2",
   "metadata": {},
   "source": [
    "The analysis shows that the difference in points scored between the Knicks and Nets decreased from 2010 to 2014. The calculated mean difference for 2014 aligns with the observed distributions in the overlapping histograms, indicating that the teams' scoring performances became more similar over time. This reduction in mean difference makes sense given the increased overlap in the distributions, suggesting a narrowing gap in points scored between the two teams during the 2014 season."
   ]
  },
  {
   "cell_type": "markdown",
   "id": "d1fbd1ab",
   "metadata": {},
   "source": [
    "The next step involves expanding the analysis to include all teams from the 2010 season only. By generating side-by-side boxplots of points scored per game for each franchise, the visualization will help assess the relationship between team identity and scoring performance. This approach will reveal the extent of overlap between teams, indicate whether franchise and points scored are associated, and highlight any pairs of teams that differ in their average scores per game."
   ]
  },
  {
   "cell_type": "markdown",
   "id": "5ee5356c",
   "metadata": {},
   "source": [
    "### Step 7: Creating side by side Box-plots to analyze all teams in 2010"
   ]
  },
  {
   "cell_type": "code",
   "execution_count": 48,
   "id": "3d38ab56",
   "metadata": {},
   "outputs": [
    {
     "data": {
      "image/png": "[encoded data removed]",
      "text/plain": [
       "<Figure size 640x480 with 1 Axes>"
      ]
     },
     "metadata": {},
     "output_type": "display_data"
    }
   ],
   "source": [
    "sns.boxplot(data=nba_data_2010, x=nba_data_2010.fran_id, y=nba_data_2010.pts)\n",
    "plt.xlabel(\"teams\")\n",
    "plt.ylabel(\"points scored\")\n",
    "plt.show()"
   ]
  },
  {
   "cell_type": "markdown",
   "id": "52646b9d",
   "metadata": {},
   "source": [
    "The side-by-side boxplots reveal that while there is considerable overlap among many of the teams' boxes, indicating similar scoring ranges, the chart still suggests an association between franchise identity (fran_id) and points scored (pts). Notably, some pairs of teams, such as the Nets and Celtics, display more pronounced differences in their average scores per game, as evidenced by the separation between their boxes. This indicates that, despite the overlap, certain franchises consistently achieve higher or lower point totals, reinforcing the relationship between team and scoring performance."
   ]
  }
 ],
 "metadata": {
  "kernelspec": {
   "display_name": "Python 3",
   "language": "python",
   "name": "python3"
  },
  "language_info": {
   "codemirror_mode": {
    "name": "ipython",
    "version": 3
   },
   "file_extension": ".py",
   "mimetype": "text/x-python",
   "name": "python",
   "nbconvert_exporter": "python",
   "pygments_lexer": "ipython3",
   "version": "3.9.5"
  }
 },
 "nbformat": 4,
 "nbformat_minor": 5
}
